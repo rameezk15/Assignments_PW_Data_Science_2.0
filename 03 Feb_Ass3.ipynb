{
 "cells": [
  {
   "cell_type": "markdown",
   "id": "e7559b4e",
   "metadata": {},
   "source": [
    "# Q1. Which keyword is used to create a function? Create a function to return a list of odd numbers in the range of 1 to 25."
   ]
  },
  {
   "cell_type": "markdown",
   "id": "8c1d8d80",
   "metadata": {},
   "source": [
    "Ans. 'def' keyword is used to create a function. Syntax of function is\n",
    "\n",
    "def function_name():\n",
    "    print('Write execution code here')\n",
    "    "
   ]
  },
  {
   "cell_type": "code",
   "execution_count": 3,
   "id": "aed46c44",
   "metadata": {},
   "outputs": [],
   "source": [
    "def odd_num(a= list(range(1,26))):\n",
    "    return [i for i in a if i%2 != 0]"
   ]
  },
  {
   "cell_type": "code",
   "execution_count": 4,
   "id": "52dea166",
   "metadata": {},
   "outputs": [
    {
     "data": {
      "text/plain": [
       "[1, 3, 5, 7, 9, 11, 13, 15, 17, 19, 21, 23, 25]"
      ]
     },
     "execution_count": 4,
     "metadata": {},
     "output_type": "execute_result"
    }
   ],
   "source": [
    "odd_num()"
   ]
  },
  {
   "cell_type": "markdown",
   "id": "fa3742de",
   "metadata": {},
   "source": [
    "# Q2. Why *args and **kwargs is used in some functions? Create a function each for *args and **kwargs to demonstrate their use."
   ]
  },
  {
   "cell_type": "markdown",
   "id": "da06bf60",
   "metadata": {},
   "source": [
    "Ans. *args is where you don't know the number of argument you required into a function. And \\**kwargs is used where you don't know the number of key value pair arguments you required into the function"
   ]
  },
  {
   "cell_type": "code",
   "execution_count": 12,
   "id": "c928bf9a",
   "metadata": {},
   "outputs": [
    {
     "data": {
      "text/plain": [
       "15"
      ]
     },
     "execution_count": 12,
     "metadata": {},
     "output_type": "execute_result"
    }
   ],
   "source": [
    "##Example of *args\n",
    "#Calculate the n number of numbers \n",
    "def total(*args):\n",
    "    x = 0\n",
    "    for i in args:\n",
    "        x = x + i\n",
    "    return x\n",
    "\n",
    "#Calling the function\n",
    "total(1,2,3,4,5)    "
   ]
  },
  {
   "cell_type": "code",
   "execution_count": 14,
   "id": "672add8d",
   "metadata": {},
   "outputs": [
    {
     "data": {
      "text/plain": [
       "(['a', 'b', 'c', 'd'], [1, 2, 3, 4])"
      ]
     },
     "execution_count": 14,
     "metadata": {},
     "output_type": "execute_result"
    }
   ],
   "source": [
    "##Example of **kwargs \n",
    "#Seprate Key and values\n",
    "def seprate(**kwargs):\n",
    "    key = [k for k,v in kwargs.items()]\n",
    "    value = [v for k,v in kwargs.items()]\n",
    "    return key, value\n",
    "\n",
    "#Calling a function\n",
    "seprate(a=1,b=2,c=3,d=4)       "
   ]
  },
  {
   "cell_type": "markdown",
   "id": "ebc387ad",
   "metadata": {},
   "source": [
    "# Q3. What is an iterator in python? Name the method used to initialise the iterator object and the method used for iteration. Use these methods to print the first five elements of the given list [2, 4, 6, 8, 10, 12, 14, 16, 18, 20]."
   ]
  },
  {
   "cell_type": "markdown",
   "id": "827c9758",
   "metadata": {},
   "source": [
    "Ans. Iterator is an object that can convert iterable type objects like string, list, dict, tuple into iterator with the help of iter() method then iterate(loop) the each value with the help of next() method.\n",
    "\n",
    "iter() is the method used to initialise the iterator object. And next() is the method used for iteration."
   ]
  },
  {
   "cell_type": "code",
   "execution_count": 21,
   "id": "1b387da0",
   "metadata": {},
   "outputs": [
    {
     "name": "stdout",
     "output_type": "stream",
     "text": [
      "2\n",
      "4\n",
      "6\n",
      "8\n",
      "10\n"
     ]
    }
   ],
   "source": [
    "l = [2, 4, 6, 8, 10, 12, 14, 16, 18, 20]\n",
    "l1=iter(l)\n",
    "i = 0\n",
    "while i < 5:\n",
    "    print(next(l1))\n",
    "    i+= 1"
   ]
  },
  {
   "cell_type": "markdown",
   "id": "f7ac2306",
   "metadata": {},
   "source": [
    "# Q4.  What is a generator function in python? Why yield keyword is used? Give an example of a generator function."
   ]
  },
  {
   "cell_type": "markdown",
   "id": "191535ef",
   "metadata": {},
   "source": [
    "Ans. A generator function in Python is a type of function that returns an iterator object, which allows us to iterate over a sequence of values on the fly without having to store all of the values in memory at once. \n",
    "\n",
    "The yield keyword allows us to create a generator function that returns a sequence of values, without having to store all of the values in memory at once."
   ]
  },
  {
   "cell_type": "code",
   "execution_count": 4,
   "id": "3b841687",
   "metadata": {},
   "outputs": [
    {
     "name": "stdout",
     "output_type": "stream",
     "text": [
      "Enter number of fibonaci required: 4\n",
      "0\n",
      "1\n",
      "1\n",
      "2\n"
     ]
    }
   ],
   "source": [
    "##Genrator function\n",
    "def fib(n):\n",
    "    a,b = 0,1\n",
    "    for i in range(n):\n",
    "        yield a\n",
    "        a,b = b , a+b\n",
    "\n",
    "user = int(input(\"Enter number of fibonaci required: \"))\n",
    "for i in fib(user):\n",
    "    print(i)"
   ]
  },
  {
   "cell_type": "markdown",
   "id": "6563f1f3",
   "metadata": {},
   "source": [
    "# Q5. Create a generator function for prime numbers less than 1000. Use the next() method to print the first 20 prime numbers."
   ]
  },
  {
   "cell_type": "code",
   "execution_count": 32,
   "id": "5fd4ca95",
   "metadata": {},
   "outputs": [
    {
     "data": {
      "text/plain": [
       "[2, 3, 5, 7, 11, 13, 17, 19, 23, 29, 31, 37, 41, 43, 47, 53, 59, 61, 67, 71]"
      ]
     },
     "execution_count": 32,
     "metadata": {},
     "output_type": "execute_result"
    }
   ],
   "source": [
    "#prime number function\n",
    "def prime(num):\n",
    "    if num < 2: return False\n",
    "    for i in range (2, int(num**0.5)+1):\n",
    "        if num%i == 0:\n",
    "            return False\n",
    "    return True\n",
    "\n",
    "#prime number genrator for less then 1000 \n",
    "def prime_genrator():\n",
    "    for i in range(1000):\n",
    "        if prime(i):\n",
    "            yield i\n",
    "            \n",
    "#list of first 20 prime number\n",
    "prime_num = prime_genrator()\n",
    "\n",
    "[next(prime_num) for i in range(20)]"
   ]
  },
  {
   "cell_type": "markdown",
   "id": "2ca733b8",
   "metadata": {},
   "source": [
    "# Q6. Write a python program to print the first 10 Fibonacci numbers using a while loop."
   ]
  },
  {
   "cell_type": "code",
   "execution_count": 36,
   "id": "00743a04",
   "metadata": {},
   "outputs": [
    {
     "name": "stdout",
     "output_type": "stream",
     "text": [
      "0\n",
      "1\n",
      "1\n",
      "2\n",
      "3\n",
      "5\n",
      "8\n",
      "13\n",
      "21\n",
      "34\n"
     ]
    }
   ],
   "source": [
    "x=0\n",
    "a,b = 0,1\n",
    "while x<10:\n",
    "    print(a)\n",
    "    a,b = b, a+b\n",
    "    x+=1"
   ]
  },
  {
   "cell_type": "markdown",
   "id": "a9f238cc",
   "metadata": {},
   "source": [
    "# Q7. Write a List Comprehension to iterate through the given string: ‘pwskills’.\n",
    " Expected output: ['p', 'w', 's', 'k', 'i', 'l', 'l', 's']"
   ]
  },
  {
   "cell_type": "code",
   "execution_count": 38,
   "id": "06cd6863",
   "metadata": {},
   "outputs": [
    {
     "data": {
      "text/plain": [
       "['p', 'w', 's', 'k', 'i', 'l', 'l', 's']"
      ]
     },
     "execution_count": 38,
     "metadata": {},
     "output_type": "execute_result"
    }
   ],
   "source": [
    "string = 'pwskills'\n",
    "[i for i in string]"
   ]
  },
  {
   "cell_type": "markdown",
   "id": "c0612130",
   "metadata": {},
   "source": [
    "# Q8. Write a python program to check whether a given number is Palindrome or not using a while loop."
   ]
  },
  {
   "cell_type": "code",
   "execution_count": 2,
   "id": "ec838af4",
   "metadata": {},
   "outputs": [
    {
     "name": "stdout",
     "output_type": "stream",
     "text": [
      "Enter number to check is Palindrome: 121\n",
      "121 is a Palindrome number\n"
     ]
    }
   ],
   "source": [
    "#With a while loop\n",
    "user= int(input('Enter number to check is Palindrome: '))\n",
    "inital_num= user\n",
    "num= inital_num\n",
    "rev_num= 0\n",
    "\n",
    "while num>0:\n",
    "    x= num%10 #last digit\n",
    "    rev_num = rev_num* 10 + x \n",
    "    num//=10 #remove last digit\n",
    "\n",
    "if rev_num == inital_num:\n",
    "    print(f'{inital_num} is a Palindrome number')\n",
    "else:\n",
    "    print(f'{inital_num} is not a Palindrome number')"
   ]
  },
  {
   "cell_type": "code",
   "execution_count": 3,
   "id": "5ae0d6b7",
   "metadata": {},
   "outputs": [
    {
     "name": "stdout",
     "output_type": "stream",
     "text": [
      "Enter a number: 121\n",
      "121 is a Palindrome number\n"
     ]
    }
   ],
   "source": [
    "#Without a while loop\n",
    "num = int(input(\"Enter a number: \"))\n",
    "\n",
    "y= lambda num: int(str(num)[::-1]) == num\n",
    "\n",
    "\n",
    "if y(num):\n",
    "    print(f'{num} is a Palindrome number')\n",
    "else:\n",
    "    print(f'{num} is not a Palindrome number')"
   ]
  },
  {
   "cell_type": "markdown",
   "id": "ea2f6f2a",
   "metadata": {},
   "source": [
    "# Q9. Write a code to print odd numbers from 1 to 100 using list comprehension.\n",
    "\n",
    "Note: Use a list comprehension to create a list from 1 to 100 and use another List comprehension to filter out odd numbers."
   ]
  },
  {
   "cell_type": "code",
   "execution_count": 48,
   "id": "3e9b5e7a",
   "metadata": {},
   "outputs": [
    {
     "data": {
      "text/plain": [
       "[1,\n",
       " 3,\n",
       " 5,\n",
       " 7,\n",
       " 9,\n",
       " 11,\n",
       " 13,\n",
       " 15,\n",
       " 17,\n",
       " 19,\n",
       " 21,\n",
       " 23,\n",
       " 25,\n",
       " 27,\n",
       " 29,\n",
       " 31,\n",
       " 33,\n",
       " 35,\n",
       " 37,\n",
       " 39,\n",
       " 41,\n",
       " 43,\n",
       " 45,\n",
       " 47,\n",
       " 49,\n",
       " 51,\n",
       " 53,\n",
       " 55,\n",
       " 57,\n",
       " 59,\n",
       " 61,\n",
       " 63,\n",
       " 65,\n",
       " 67,\n",
       " 69,\n",
       " 71,\n",
       " 73,\n",
       " 75,\n",
       " 77,\n",
       " 79,\n",
       " 81,\n",
       " 83,\n",
       " 85,\n",
       " 87,\n",
       " 89,\n",
       " 91,\n",
       " 93,\n",
       " 95,\n",
       " 97,\n",
       " 99]"
      ]
     },
     "execution_count": 48,
     "metadata": {},
     "output_type": "execute_result"
    }
   ],
   "source": [
    "#List of 1 to 100 using comprehension method\n",
    "l1=[i for i in range(1,101)]\n",
    "\n",
    "#List comprehension to filter out odd numbers\n",
    "l2 = list(filter(lambda x: x%2 !=0, l1))\n",
    "l2"
   ]
  },
  {
   "cell_type": "code",
   "execution_count": null,
   "id": "fe8a029d",
   "metadata": {},
   "outputs": [],
   "source": []
  }
 ],
 "metadata": {
  "kernelspec": {
   "display_name": "Python 3 (ipykernel)",
   "language": "python",
   "name": "python3"
  },
  "language_info": {
   "codemirror_mode": {
    "name": "ipython",
    "version": 3
   },
   "file_extension": ".py",
   "mimetype": "text/x-python",
   "name": "python",
   "nbconvert_exporter": "python",
   "pygments_lexer": "ipython3",
   "version": "3.11.2"
  }
 },
 "nbformat": 4,
 "nbformat_minor": 5
}
