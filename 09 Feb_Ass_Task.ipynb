{
 "cells": [
  {
   "cell_type": "markdown",
   "id": "990484db",
   "metadata": {},
   "source": [
    "# Q1. Create a vehicle class with an init method having instance variables as name_of_vehicle, max_speed and average_of_vehicle."
   ]
  },
  {
   "cell_type": "code",
   "execution_count": 2,
   "id": "f2f50fa4",
   "metadata": {},
   "outputs": [],
   "source": [
    "class vehicle():\n",
    "    def __init__(self, name_of_vehicle, max_speed, average_of_vehicle):\n",
    "        self.name_of_vehicle = name_of_vehicle\n",
    "        self.max_speed = max_speed\n",
    "        self.average_of_vehicle = average_of_vehicle"
   ]
  },
  {
   "cell_type": "code",
   "execution_count": 3,
   "id": "9c74de2a",
   "metadata": {},
   "outputs": [],
   "source": [
    "car = vehicle('Maruti', 80, 35)"
   ]
  },
  {
   "cell_type": "code",
   "execution_count": 5,
   "id": "edb76934",
   "metadata": {},
   "outputs": [
    {
     "name": "stdout",
     "output_type": "stream",
     "text": [
      "Maruti 80 35\n"
     ]
    }
   ],
   "source": [
    "print(car.name_of_vehicle, car.max_speed, car.average_of_vehicle)"
   ]
  },
  {
   "cell_type": "markdown",
   "id": "d781fb90",
   "metadata": {},
   "source": [
    "# Q2. Create a child class car from the vehicle class created in Que 1, which will inherit the vehicle class. Create a method named seating_capacity which takes capacity as an argument and returns the name of the vehicle and its seating capacity.\n"
   ]
  },
  {
   "cell_type": "code",
   "execution_count": 8,
   "id": "e0aeff78",
   "metadata": {},
   "outputs": [],
   "source": [
    "class car(vehicle):\n",
    "    def seating_capacity(self,capacity):\n",
    "        self.capacity = capacity\n",
    "        return print(f'Name of the vehicle is {self.name_of_vehicle}, and Capacity of that vecile is {self.capacity}')"
   ]
  },
  {
   "cell_type": "code",
   "execution_count": 9,
   "id": "1e866dcd",
   "metadata": {},
   "outputs": [
    {
     "name": "stdout",
     "output_type": "stream",
     "text": [
      "Name of the vehicle is Audi, and Capacity of that vecile is 4\n",
      "None\n"
     ]
    }
   ],
   "source": [
    "new_car = car('Audi', 100, 30)\n",
    "\n",
    "print(new_car.seating_capacity(4))"
   ]
  },
  {
   "cell_type": "markdown",
   "id": "59e8d3c5",
   "metadata": {},
   "source": [
    "# Q3. What is multiple inheritance? Write a python code to demonstrate multiple inheritance.\n"
   ]
  },
  {
   "cell_type": "markdown",
   "id": "d4afb640",
   "metadata": {},
   "source": [
    "And <p>Multiple inheritance allows a child class to inherit from two or more parent classes. This means that the child class can inherit attributes and methods from multiple classes, combining their functionalities.\n",
    "\n",
    "<p>Lets suppose i have a two parent class <code>class father</code> and <code>class mother</code> and one child class <code>class child</code>. which will inherit <code>class father</code> and <code>class mother</code> both. "
   ]
  },
  {
   "cell_type": "code",
   "execution_count": 56,
   "id": "f9cb5097",
   "metadata": {},
   "outputs": [],
   "source": [
    "class father():\n",
    "    def __init__(self, father_name, father_age):\n",
    "        self.father_name = father_name\n",
    "        self.father_age = father_age\n",
    "        \n",
    "class mother():\n",
    "    def __init__(self, mother_name, mother_age):\n",
    "        self.mother_name = mother_name\n",
    "        self.mother_age = mother_age\n",
    "\n",
    "class child(father, mother):\n",
    "    def __init__(self,father_name, father_age, mother_name, mother_age):\n",
    "        super().__init__(father_name, father_age)\n",
    "        mother.__init__(self,mother_name, mother_age)\n",
    "    \n",
    "    def parents(self):\n",
    "        return print(f'Child Father name is {self.father_name} and his age is {self.father_age}. Mother name is {self.mother_name} and her age is {self.mother_age}')"
   ]
  },
  {
   "cell_type": "code",
   "execution_count": 57,
   "id": "521d989d",
   "metadata": {},
   "outputs": [],
   "source": [
    "c = child(\"Raju\", 26, \"Rani\", 20)"
   ]
  },
  {
   "cell_type": "code",
   "execution_count": 58,
   "id": "bc04465e",
   "metadata": {},
   "outputs": [
    {
     "name": "stdout",
     "output_type": "stream",
     "text": [
      "Child Father name is Raju and his age is 26. Mother name is Rani and her age is 20\n"
     ]
    }
   ],
   "source": [
    "c.parents()"
   ]
  },
  {
   "cell_type": "markdown",
   "id": "34c275d9",
   "metadata": {},
   "source": [
    "# Q4. What are getter and setter in python? Create a class and create a getter and a setter method in this class."
   ]
  },
  {
   "cell_type": "markdown",
   "id": "337f1b3f",
   "metadata": {},
   "source": [
    "Ans <p>The <strong>getter</strong> and <strong>setter</strong> methods are commonly used with the <code>@property</code> decorator to provide access to private and protected variables while encapsulating them."
   ]
  },
  {
   "cell_type": "code",
   "execution_count": 82,
   "id": "4cb97f06",
   "metadata": {},
   "outputs": [],
   "source": [
    "class account():\n",
    "    def __init__(self, account_name, account_balance):\n",
    "        self.account_name = account_name\n",
    "        self.__account_balance = account_balance\n",
    "        \n",
    "    @property\n",
    "    def account_balance_access(self):\n",
    "        return self.__account_balance\n",
    "    \n",
    "    @account_balance_access.setter\n",
    "    def withdrawal(self, withdrawal):\n",
    "        self.__account_balance -= withdrawal\n",
    "        "
   ]
  },
  {
   "cell_type": "code",
   "execution_count": 83,
   "id": "4c4ec446",
   "metadata": {},
   "outputs": [],
   "source": [
    "Bank = account(\"Rameez\", 3500)"
   ]
  },
  {
   "cell_type": "code",
   "execution_count": 84,
   "id": "d84eea99",
   "metadata": {},
   "outputs": [
    {
     "data": {
      "text/plain": [
       "3500"
      ]
     },
     "execution_count": 84,
     "metadata": {},
     "output_type": "execute_result"
    }
   ],
   "source": [
    "#Inital price\n",
    "Bank.account_balance_access"
   ]
  },
  {
   "cell_type": "code",
   "execution_count": 86,
   "id": "c0366353",
   "metadata": {},
   "outputs": [],
   "source": [
    "Bank.withdrawal = 500"
   ]
  },
  {
   "cell_type": "code",
   "execution_count": 87,
   "id": "e6751a9e",
   "metadata": {},
   "outputs": [
    {
     "data": {
      "text/plain": [
       "3000"
      ]
     },
     "execution_count": 87,
     "metadata": {},
     "output_type": "execute_result"
    }
   ],
   "source": [
    "#Price after withdrwal\n",
    "Bank.account_balance_access"
   ]
  },
  {
   "cell_type": "markdown",
   "id": "56c7b50d",
   "metadata": {},
   "source": [
    "# Q5.What is method overriding in python? Write a python code to demonstrate method overriding."
   ]
  },
  {
   "cell_type": "markdown",
   "id": "930388b2",
   "metadata": {},
   "source": [
    "<strong>Method Overriding:</strong>\n",
    "- Method overriding occurs when a subclass provides its own implementation of a method already defined in its parent class.\n",
    "- The overriding method in the subclass has the same name and similar parameters (return type can be different) as the method in the parent class.\n",
    "- The purpose of overriding is to modify or extend the behavior of the inherited method.\n",
    "- Method overriding is based on inheritance and polymorphism, allowing subclasses to provide their unique implementation."
   ]
  },
  {
   "cell_type": "code",
   "execution_count": 88,
   "id": "be320611",
   "metadata": {},
   "outputs": [
    {
     "name": "stdout",
     "output_type": "stream",
     "text": [
      "The dog barks.\n"
     ]
    }
   ],
   "source": [
    "class Animal:\n",
    "    def sound(self):\n",
    "        print(\"The animal makes a sound.\")\n",
    "\n",
    "class Dog(Animal):\n",
    "    def sound(self):\n",
    "        return \"The dog barks.\"\n",
    "\n",
    "dog = Dog()\n",
    "dog_sound = dog.sound()\n",
    "print(dog_sound)  # Output: The dog barks."
   ]
  },
  {
   "cell_type": "code",
   "execution_count": null,
   "id": "15bf550e",
   "metadata": {},
   "outputs": [],
   "source": []
  }
 ],
 "metadata": {
  "kernelspec": {
   "display_name": "Python 3 (ipykernel)",
   "language": "python",
   "name": "python3"
  },
  "language_info": {
   "codemirror_mode": {
    "name": "ipython",
    "version": 3
   },
   "file_extension": ".py",
   "mimetype": "text/x-python",
   "name": "python",
   "nbconvert_exporter": "python",
   "pygments_lexer": "ipython3",
   "version": "3.11.2"
  }
 },
 "nbformat": 4,
 "nbformat_minor": 5
}
